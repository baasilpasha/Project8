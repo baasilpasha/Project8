{
 "cells": [
  {
   "cell_type": "code",
   "execution_count": 40,
   "metadata": {},
   "outputs": [],
   "source": [
    "import pandas as pd\n",
    "import numpy as np\n",
    "import matplotlib.pyplot as plt\n",
    "import seaborn as sns"
   ]
  },
  {
   "cell_type": "markdown",
   "metadata": {},
   "source": [
    "### What if you have _other_ types of data?\n",
    "\n",
    "A summary of pandas input/output (I/O) tools is [here](https://pandas.pydata.org/docs/user_guide/io.html). Here are some things we can directly import:\n",
    "* CSVs\n",
    "* JSON\n",
    "* text (rtf, txt)\n",
    "* HTML\n",
    "* MS Excel\n",
    "* Pickle (Python file format)\n",
    "* Parquet\n",
    "* And many others...\n",
    "\n",
    "With HTML, you might want to parse it using Beautiful Soup. With PDFs, I suggest using Tabula.\n",
    "\n",
    "### Your task\n",
    "\n",
    "Import your own personal data file (or better yet, several of them!). Extract the timestamp data. Export it as a CSV file and save it.\n",
    "\n"
   ]
  },
  {
   "cell_type": "code",
   "execution_count": 41,
   "metadata": {},
   "outputs": [
    {
     "data": {
      "text/html": [
       "<div>\n",
       "<style scoped>\n",
       "    .dataframe tbody tr th:only-of-type {\n",
       "        vertical-align: middle;\n",
       "    }\n",
       "\n",
       "    .dataframe tbody tr th {\n",
       "        vertical-align: top;\n",
       "    }\n",
       "\n",
       "    .dataframe thead th {\n",
       "        text-align: right;\n",
       "    }\n",
       "</style>\n",
       "<table border=\"1\" class=\"dataframe\">\n",
       "  <thead>\n",
       "    <tr style=\"text-align: right;\">\n",
       "      <th></th>\n",
       "      <th>endTime</th>\n",
       "      <th>artistName</th>\n",
       "      <th>trackName</th>\n",
       "      <th>msPlayed</th>\n",
       "    </tr>\n",
       "  </thead>\n",
       "  <tbody>\n",
       "    <tr>\n",
       "      <th>0</th>\n",
       "      <td>2022-12-02 00:03</td>\n",
       "      <td>JID</td>\n",
       "      <td>Surround Sound (feat. 21 Savage &amp; Baby Tate)</td>\n",
       "      <td>229938</td>\n",
       "    </tr>\n",
       "    <tr>\n",
       "      <th>1</th>\n",
       "      <td>2022-12-02 00:06</td>\n",
       "      <td>Spence Lee</td>\n",
       "      <td>Bag on a Bag</td>\n",
       "      <td>172000</td>\n",
       "    </tr>\n",
       "    <tr>\n",
       "      <th>2</th>\n",
       "      <td>2022-12-02 00:09</td>\n",
       "      <td>PROBASS ∆ HARDI</td>\n",
       "      <td>ГОВОРИТЬ КИЇВ</td>\n",
       "      <td>183783</td>\n",
       "    </tr>\n",
       "    <tr>\n",
       "      <th>3</th>\n",
       "      <td>2022-12-02 00:12</td>\n",
       "      <td>blnkspc_</td>\n",
       "      <td>Brasil</td>\n",
       "      <td>169000</td>\n",
       "    </tr>\n",
       "    <tr>\n",
       "      <th>4</th>\n",
       "      <td>2022-12-02 00:13</td>\n",
       "      <td>OhGeesy Stiiizy</td>\n",
       "      <td>Slide Thru</td>\n",
       "      <td>100124</td>\n",
       "    </tr>\n",
       "  </tbody>\n",
       "</table>\n",
       "</div>"
      ],
      "text/plain": [
       "            endTime       artistName  \\\n",
       "0  2022-12-02 00:03              JID   \n",
       "1  2022-12-02 00:06       Spence Lee   \n",
       "2  2022-12-02 00:09  PROBASS ∆ HARDI   \n",
       "3  2022-12-02 00:12         blnkspc_   \n",
       "4  2022-12-02 00:13  OhGeesy Stiiizy   \n",
       "\n",
       "                                      trackName  msPlayed  \n",
       "0  Surround Sound (feat. 21 Savage & Baby Tate)    229938  \n",
       "1                                  Bag on a Bag    172000  \n",
       "2                                 ГОВОРИТЬ КИЇВ    183783  \n",
       "3                                        Brasil    169000  \n",
       "4                                    Slide Thru    100124  "
      ]
     },
     "execution_count": 41,
     "metadata": {},
     "output_type": "execute_result"
    }
   ],
   "source": [
    "df = pd.read_json(\"StreamingHistory0.json\")\n",
    "df.head()"
   ]
  },
  {
   "cell_type": "code",
   "execution_count": 42,
   "metadata": {},
   "outputs": [
    {
     "data": {
      "text/html": [
       "<div>\n",
       "<style scoped>\n",
       "    .dataframe tbody tr th:only-of-type {\n",
       "        vertical-align: middle;\n",
       "    }\n",
       "\n",
       "    .dataframe tbody tr th {\n",
       "        vertical-align: top;\n",
       "    }\n",
       "\n",
       "    .dataframe thead th {\n",
       "        text-align: right;\n",
       "    }\n",
       "</style>\n",
       "<table border=\"1\" class=\"dataframe\">\n",
       "  <thead>\n",
       "    <tr style=\"text-align: right;\">\n",
       "      <th></th>\n",
       "      <th>endTime</th>\n",
       "    </tr>\n",
       "  </thead>\n",
       "  <tbody>\n",
       "    <tr>\n",
       "      <th>0</th>\n",
       "      <td>2022-12-02 00:03</td>\n",
       "    </tr>\n",
       "    <tr>\n",
       "      <th>1</th>\n",
       "      <td>2022-12-02 00:06</td>\n",
       "    </tr>\n",
       "    <tr>\n",
       "      <th>2</th>\n",
       "      <td>2022-12-02 00:09</td>\n",
       "    </tr>\n",
       "    <tr>\n",
       "      <th>3</th>\n",
       "      <td>2022-12-02 00:12</td>\n",
       "    </tr>\n",
       "    <tr>\n",
       "      <th>4</th>\n",
       "      <td>2022-12-02 00:13</td>\n",
       "    </tr>\n",
       "  </tbody>\n",
       "</table>\n",
       "</div>"
      ],
      "text/plain": [
       "            endTime\n",
       "0  2022-12-02 00:03\n",
       "1  2022-12-02 00:06\n",
       "2  2022-12-02 00:09\n",
       "3  2022-12-02 00:12\n",
       "4  2022-12-02 00:13"
      ]
     },
     "execution_count": 42,
     "metadata": {},
     "output_type": "execute_result"
    }
   ],
   "source": [
    "#Taking time column and export\n",
    "dfTime = df[['endTime']]\n",
    "dfTime.to_csv(\"timestamps.csv\", index=False)\n",
    "dfTime.head()\n"
   ]
  },
  {
   "cell_type": "markdown",
   "metadata": {},
   "source": [
    "# Part 2"
   ]
  },
  {
   "cell_type": "code",
   "execution_count": 43,
   "metadata": {},
   "outputs": [
    {
     "data": {
      "text/html": [
       "<div>\n",
       "<style scoped>\n",
       "    .dataframe tbody tr th:only-of-type {\n",
       "        vertical-align: middle;\n",
       "    }\n",
       "\n",
       "    .dataframe tbody tr th {\n",
       "        vertical-align: top;\n",
       "    }\n",
       "\n",
       "    .dataframe thead th {\n",
       "        text-align: right;\n",
       "    }\n",
       "</style>\n",
       "<table border=\"1\" class=\"dataframe\">\n",
       "  <thead>\n",
       "    <tr style=\"text-align: right;\">\n",
       "      <th></th>\n",
       "      <th>Unnamed: 0</th>\n",
       "      <th>ts</th>\n",
       "    </tr>\n",
       "  </thead>\n",
       "  <tbody>\n",
       "    <tr>\n",
       "      <th>0</th>\n",
       "      <td>0</td>\n",
       "      <td>2022-11-16 23:46:49+00:00</td>\n",
       "    </tr>\n",
       "    <tr>\n",
       "      <th>1</th>\n",
       "      <td>1</td>\n",
       "      <td>2022-11-16 23:50:15+00:00</td>\n",
       "    </tr>\n",
       "    <tr>\n",
       "      <th>2</th>\n",
       "      <td>2</td>\n",
       "      <td>2022-11-16 23:54:20+00:00</td>\n",
       "    </tr>\n",
       "    <tr>\n",
       "      <th>3</th>\n",
       "      <td>3</td>\n",
       "      <td>2022-11-16 23:58:48+00:00</td>\n",
       "    </tr>\n",
       "    <tr>\n",
       "      <th>4</th>\n",
       "      <td>4</td>\n",
       "      <td>2022-11-17 00:02:50+00:00</td>\n",
       "    </tr>\n",
       "  </tbody>\n",
       "</table>\n",
       "</div>"
      ],
      "text/plain": [
       "   Unnamed: 0                         ts\n",
       "0           0  2022-11-16 23:46:49+00:00\n",
       "1           1  2022-11-16 23:50:15+00:00\n",
       "2           2  2022-11-16 23:54:20+00:00\n",
       "3           3  2022-11-16 23:58:48+00:00\n",
       "4           4  2022-11-17 00:02:50+00:00"
      ]
     },
     "execution_count": 43,
     "metadata": {},
     "output_type": "execute_result"
    }
   ],
   "source": [
    "gData = pd.read_csv('Grant_timestamps.csv')\n",
    "gData.head()\n"
   ]
  },
  {
   "cell_type": "code",
   "execution_count": 44,
   "metadata": {},
   "outputs": [
    {
     "data": {
      "text/html": [
       "<div>\n",
       "<style scoped>\n",
       "    .dataframe tbody tr th:only-of-type {\n",
       "        vertical-align: middle;\n",
       "    }\n",
       "\n",
       "    .dataframe tbody tr th {\n",
       "        vertical-align: top;\n",
       "    }\n",
       "\n",
       "    .dataframe thead th {\n",
       "        text-align: right;\n",
       "    }\n",
       "</style>\n",
       "<table border=\"1\" class=\"dataframe\">\n",
       "  <thead>\n",
       "    <tr style=\"text-align: right;\">\n",
       "      <th></th>\n",
       "      <th>Unnamed: 0</th>\n",
       "      <th>ts</th>\n",
       "    </tr>\n",
       "  </thead>\n",
       "  <tbody>\n",
       "    <tr>\n",
       "      <th>0</th>\n",
       "      <td>0</td>\n",
       "      <td>2022-11-16 23:46:49+00:00</td>\n",
       "    </tr>\n",
       "    <tr>\n",
       "      <th>1</th>\n",
       "      <td>1</td>\n",
       "      <td>2022-11-16 23:50:15+00:00</td>\n",
       "    </tr>\n",
       "    <tr>\n",
       "      <th>2</th>\n",
       "      <td>2</td>\n",
       "      <td>2022-11-16 23:54:20+00:00</td>\n",
       "    </tr>\n",
       "    <tr>\n",
       "      <th>3</th>\n",
       "      <td>3</td>\n",
       "      <td>2022-11-16 23:58:48+00:00</td>\n",
       "    </tr>\n",
       "    <tr>\n",
       "      <th>4</th>\n",
       "      <td>4</td>\n",
       "      <td>2022-11-17 00:02:50+00:00</td>\n",
       "    </tr>\n",
       "  </tbody>\n",
       "</table>\n",
       "</div>"
      ],
      "text/plain": [
       "   Unnamed: 0                        ts\n",
       "0           0 2022-11-16 23:46:49+00:00\n",
       "1           1 2022-11-16 23:50:15+00:00\n",
       "2           2 2022-11-16 23:54:20+00:00\n",
       "3           3 2022-11-16 23:58:48+00:00\n",
       "4           4 2022-11-17 00:02:50+00:00"
      ]
     },
     "execution_count": 44,
     "metadata": {},
     "output_type": "execute_result"
    }
   ],
   "source": [
    "gData['ts'] = pd.to_datetime(gData['ts'])\n",
    "gData = gData.sort_values(by = 'ts', ascending=True)\n",
    "gData.head()"
   ]
  },
  {
   "cell_type": "code",
   "execution_count": 45,
   "metadata": {},
   "outputs": [],
   "source": [
    "# Using pandas.diff(), make new col\n",
    "gData['Difference'] = gData['ts'].diff()"
   ]
  },
  {
   "cell_type": "markdown",
   "metadata": {},
   "source": [
    "# Answer: \n",
    "What is the longest time between timestamps? What is the average time between timestamps?"
   ]
  },
  {
   "cell_type": "code",
   "execution_count": 46,
   "metadata": {},
   "outputs": [
    {
     "data": {
      "text/plain": [
       "Timedelta('4 days 04:29:06')"
      ]
     },
     "execution_count": 46,
     "metadata": {},
     "output_type": "execute_result"
    }
   ],
   "source": [
    "longestTime = gData['Difference'].max()\n",
    "longestTime"
   ]
  },
  {
   "cell_type": "code",
   "execution_count": 47,
   "metadata": {},
   "outputs": [
    {
     "data": {
      "text/plain": [
       "Timedelta('0 days 00:35:01.174720136')"
      ]
     },
     "execution_count": 47,
     "metadata": {},
     "output_type": "execute_result"
    }
   ],
   "source": [
    "avgTime = gData['Difference'].mean()\n",
    "avgTime"
   ]
  },
  {
   "cell_type": "markdown",
   "metadata": {},
   "source": [
    "# Answer: \n",
    "What is the day with the most timestamps? How many events (timestamps) were on that day?"
   ]
  },
  {
   "cell_type": "code",
   "execution_count": 48,
   "metadata": {},
   "outputs": [
    {
     "data": {
      "text/plain": [
       "28"
      ]
     },
     "execution_count": 48,
     "metadata": {},
     "output_type": "execute_result"
    }
   ],
   "source": [
    "gData['day'] = gData['ts'].dt.day #datetime to get day\n",
    "mostTsDay = gData['day'].value_counts().idxmax()\n",
    "mostTsDay\n"
   ]
  },
  {
   "cell_type": "code",
   "execution_count": 49,
   "metadata": {},
   "outputs": [
    {
     "data": {
      "text/plain": [
       "813"
      ]
     },
     "execution_count": 49,
     "metadata": {},
     "output_type": "execute_result"
    }
   ],
   "source": [
    "countMostTsDay = gData['day'].value_counts().max()\n",
    "countMostTsDay"
   ]
  },
  {
   "cell_type": "markdown",
   "metadata": {},
   "source": [
    "# Answer: \n",
    "What is the month with the most timestamps? How many events (timestamps) were on that month?"
   ]
  },
  {
   "cell_type": "code",
   "execution_count": 50,
   "metadata": {},
   "outputs": [
    {
     "name": "stdout",
     "output_type": "stream",
     "text": [
      "Most time stamps on month 12 , count = 1948\n"
     ]
    }
   ],
   "source": [
    "gData['month'] = gData['ts'].dt.month\n",
    "tsMonth = gData['month'].value_counts().idxmax()\n",
    "countMonth = gData['month'].value_counts().max()\n",
    "\n",
    "print('Most time stamps on month', tsMonth, ', count =', countMonth)"
   ]
  },
  {
   "cell_type": "markdown",
   "metadata": {},
   "source": [
    "# Analyze: \n",
    "Create at least one visualization of this data, using matplotlib/pyplot or Seaborn (refer back to our earlier class activities on visualizing time series data).  What can they tell you about the data?"
   ]
  },
  {
   "cell_type": "code",
   "execution_count": 51,
   "metadata": {},
   "outputs": [
    {
     "data": {
      "image/png": "[encoded data removed]",
      "text/plain": [
       "<Figure size 1440x432 with 1 Axes>"
      ]
     },
     "metadata": {
      "needs_background": "dark"
     },
     "output_type": "display_data"
    }
   ],
   "source": [
    "plt.figure(figsize=(20, 6))\n",
    "sns.lineplot(x=gData['ts'], y=gData['day'])\n",
    "plt.title('Timestamps Over Days')\n",
    "plt.xlabel('Timestamp', color = 'white')\n",
    "plt.ylabel('Number of Timestamps', color = 'white')\n",
    "#made color whit everywhere as my IDE background was black\n",
    "plt.xticks(color='white')\n",
    "plt.yticks(color='white')\n",
    "plt.show()\n"
   ]
  },
  {
   "cell_type": "markdown",
   "metadata": {},
   "source": [
    "I have no idea what the type of data is but it could be streaming timestamp data, but I am not sure what to make of the repeating pattern. The pattern is very interesting which confuses me. Seeing as there could be up to 813 timestamps in a single day is also confusing, but does align with some streaming data. The longest distance being 4 days and the average time between time stamps being half an hour keeps me thinking that this is some kind of streaming service, such as music. "
   ]
  },
  {
   "cell_type": "markdown",
   "metadata": {},
   "source": [
    "# Grant's Comments on Baasil's Analysis\n",
    "Exchange your analysis with your partner. Read your partner's analysis --\n",
    "\n",
    "Did they guess the correct data source (or type of data source)?\n",
    "\n",
    "For the days and months that your partner identified as having the most timestamps in your data, try to figure out what was happening on those days.\n",
    "\n",
    "What other data might help you figure this out?"
   ]
  },
  {
   "cell_type": "markdown",
   "metadata": {},
   "source": []
  },
  {
   "cell_type": "markdown",
   "metadata": {},
   "source": [
    "# Part 4\n"
   ]
  },
  {
   "cell_type": "markdown",
   "metadata": {},
   "source": [
    "I will be answering the questions:\n",
    "1. What are the top 5 most played tracks in my Spotify listening history?\n",
    "2. How does the average listening duration vary between weekdays and weekends?"
   ]
  },
  {
   "cell_type": "code",
   "execution_count": 18,
   "metadata": {},
   "outputs": [
    {
     "data": {
      "text/html": [
       "<div>\n",
       "<style scoped>\n",
       "    .dataframe tbody tr th:only-of-type {\n",
       "        vertical-align: middle;\n",
       "    }\n",
       "\n",
       "    .dataframe tbody tr th {\n",
       "        vertical-align: top;\n",
       "    }\n",
       "\n",
       "    .dataframe thead th {\n",
       "        text-align: right;\n",
       "    }\n",
       "</style>\n",
       "<table border=\"1\" class=\"dataframe\">\n",
       "  <thead>\n",
       "    <tr style=\"text-align: right;\">\n",
       "      <th></th>\n",
       "      <th>endTime</th>\n",
       "      <th>artistName</th>\n",
       "      <th>trackName</th>\n",
       "      <th>msPlayed</th>\n",
       "    </tr>\n",
       "  </thead>\n",
       "  <tbody>\n",
       "    <tr>\n",
       "      <th>0</th>\n",
       "      <td>2022-12-02 00:03</td>\n",
       "      <td>JID</td>\n",
       "      <td>Surround Sound (feat. 21 Savage &amp; Baby Tate)</td>\n",
       "      <td>229938</td>\n",
       "    </tr>\n",
       "    <tr>\n",
       "      <th>1</th>\n",
       "      <td>2022-12-02 00:06</td>\n",
       "      <td>Spence Lee</td>\n",
       "      <td>Bag on a Bag</td>\n",
       "      <td>172000</td>\n",
       "    </tr>\n",
       "    <tr>\n",
       "      <th>2</th>\n",
       "      <td>2022-12-02 00:09</td>\n",
       "      <td>PROBASS ∆ HARDI</td>\n",
       "      <td>ГОВОРИТЬ КИЇВ</td>\n",
       "      <td>183783</td>\n",
       "    </tr>\n",
       "    <tr>\n",
       "      <th>3</th>\n",
       "      <td>2022-12-02 00:12</td>\n",
       "      <td>blnkspc_</td>\n",
       "      <td>Brasil</td>\n",
       "      <td>169000</td>\n",
       "    </tr>\n",
       "    <tr>\n",
       "      <th>4</th>\n",
       "      <td>2022-12-02 00:13</td>\n",
       "      <td>OhGeesy Stiiizy</td>\n",
       "      <td>Slide Thru</td>\n",
       "      <td>100124</td>\n",
       "    </tr>\n",
       "  </tbody>\n",
       "</table>\n",
       "</div>"
      ],
      "text/plain": [
       "            endTime       artistName  \\\n",
       "0  2022-12-02 00:03              JID   \n",
       "1  2022-12-02 00:06       Spence Lee   \n",
       "2  2022-12-02 00:09  PROBASS ∆ HARDI   \n",
       "3  2022-12-02 00:12         blnkspc_   \n",
       "4  2022-12-02 00:13  OhGeesy Stiiizy   \n",
       "\n",
       "                                      trackName  msPlayed  \n",
       "0  Surround Sound (feat. 21 Savage & Baby Tate)    229938  \n",
       "1                                  Bag on a Bag    172000  \n",
       "2                                 ГОВОРИТЬ КИЇВ    183783  \n",
       "3                                        Brasil    169000  \n",
       "4                                    Slide Thru    100124  "
      ]
     },
     "execution_count": 18,
     "metadata": {},
     "output_type": "execute_result"
    }
   ],
   "source": [
    "df.head()"
   ]
  },
  {
   "cell_type": "code",
   "execution_count": null,
   "metadata": {},
   "outputs": [],
   "source": [
    "df['endTime'] = pd.to_datetime(df['endTime']) #converting time column to datetime"
   ]
  },
  {
   "cell_type": "code",
   "execution_count": 22,
   "metadata": {},
   "outputs": [
    {
     "data": {
      "text/plain": [
       "trackName\n",
       "Quickie                                 6913252\n",
       "Valores del West                        6214302\n",
       "No Lo Entiendo                          5348126\n",
       "Set dos Casados                         5196164\n",
       "275 Be the Team (feat. Chris Travis)    5042788\n",
       "Name: msPlayed, dtype: int64"
      ]
     },
     "execution_count": 22,
     "metadata": {},
     "output_type": "execute_result"
    }
   ],
   "source": [
    "#Answering Question 1\n",
    "top_songs = df.groupby('trackName')['msPlayed'].sum() #aggregates listening duration for each individual song\n",
    "top_songs = top_songs.sort_values(ascending=False).head(5) \n",
    "top_songs#Sorts from high to low, giving me top 5 most listened to songs"
   ]
  },
  {
   "cell_type": "code",
   "execution_count": 23,
   "metadata": {},
   "outputs": [
    {
     "data": {
      "image/png": "[encoded data removed]",
      "text/plain": [
       "<Figure size 720x432 with 1 Axes>"
      ]
     },
     "metadata": {
      "needs_background": "light"
     },
     "output_type": "display_data"
    }
   ],
   "source": [
    "#Creating Visualization\n",
    "plt.figure(figsize=(10, 6))\n",
    "sns.barplot(x=top_songs.index, y=top_songs.values)\n",
    "plt.title('Top 5 Most Played Tracks')\n",
    "plt.xlabel('Track Name')\n",
    "plt.ylabel('Total Listening Duration (ms)')\n",
    "plt.xticks(rotation=45, ha='right')  # Rotate x-axis labels for better readability\n",
    "plt.show()"
   ]
  },
  {
   "cell_type": "markdown",
   "metadata": {},
   "source": [
    "These results do not seem out of the ordinary. Not neccesarily what I would expect, but they all make sense. It does seem a bit intrestingly dated. "
   ]
  },
  {
   "cell_type": "code",
   "execution_count": 35,
   "metadata": {},
   "outputs": [],
   "source": [
    "#Answering question 2\n",
    "df['dayName'] = df['endTime'].dt.day_name() #used Pandas documentation\n",
    "df['weekend'] = df['dayName'].isin(['Saturday', 'Sunday']) #lets me sepearate weekends and weekdays (true if weekend, false if weekday)\n",
    "df['minPlayed'] = df['msPlayed'] / 6000 #for easier readbility"
   ]
  },
  {
   "cell_type": "code",
   "execution_count": 36,
   "metadata": {},
   "outputs": [
    {
     "name": "stdout",
     "output_type": "stream",
     "text": [
      "Average Listening Duration:\n",
      "weekend\n",
      "False    16.528361\n",
      "True     17.337504\n",
      "Name: minPlayed, dtype: float64\n"
     ]
    }
   ],
   "source": [
    "#Average listening time of both types of days\n",
    "AvgMinPlayed_by_day = df.groupby('weekend')['minPlayed'].mean()\n",
    "print(\"Average Listening Duration:\")\n",
    "\n",
    "print(AvgMinPlayed_by_day)"
   ]
  },
  {
   "cell_type": "code",
   "execution_count": 39,
   "metadata": {},
   "outputs": [
    {
     "data": {
      "image/png": "[encoded data removed]",
      "text/plain": [
       "<Figure size 576x432 with 1 Axes>"
      ]
     },
     "metadata": {
      "needs_background": "light"
     },
     "output_type": "display_data"
    }
   ],
   "source": [
    "plt.figure(figsize=(8, 6))\n",
    "sns.barplot(x=AvgMinPlayed_by_day.index, y=AvgMinPlayed_by_day.values, palette='Set2')\n",
    "plt.title('Average Listening Duration on Weekdays vs. Weekends')\n",
    "plt.xlabel('Day Type')\n",
    "plt.ylabel('Average Minutes Played')\n",
    "plt.xticks(ticks=[0, 1], labels=['Weekday', 'Weekend'], rotation=0)\n",
    "plt.show()"
   ]
  },
  {
   "cell_type": "markdown",
   "metadata": {},
   "source": [
    "False is my average minutes played on weekdays, and True is the average for weekends (for the raw data table, the graph is labeled). It makes sense that the Weekends are greater, but I do know that I listent to study music a lot during the week, so I'm wondering if this analysis captures that. I am suprised that my average listening time is so low. I typically listen to music for longer than just 20 minutes a day which is interesting. The amount of variability between the weekends and weekdays is not unexpected."
   ]
  },
  {
   "cell_type": "markdown",
   "metadata": {},
   "source": [
    "# Sources\n",
    "https://pandas.pydata.org/docs/reference/api/pandas.Series.dt.day_name.html"
   ]
  }
 ],
 "metadata": {
  "kernelspec": {
   "display_name": "base",
   "language": "python",
   "name": "python3"
  },
  "language_info": {
   "codemirror_mode": {
    "name": "ipython",
    "version": 3
   },
   "file_extension": ".py",
   "mimetype": "text/x-python",
   "name": "python",
   "nbconvert_exporter": "python",
   "pygments_lexer": "ipython3",
   "version": "3.9.7"
  },
  "orig_nbformat": 4
 },
 "nbformat": 4,
 "nbformat_minor": 2
}
