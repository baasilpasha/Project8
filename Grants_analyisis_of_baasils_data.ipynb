{
 "cells": [
  {
   "cell_type": "markdown",
   "metadata": {},
   "source": [
    "# Grant's Analysis of Baasil's data"
   ]
  },
  {
   "cell_type": "code",
   "execution_count": 38,
   "metadata": {},
   "outputs": [],
   "source": [
    "import pandas as pd\n",
    "import matplotlib.pyplot as plt\n",
    "import seaborn as sns\n",
    "import numpy as np"
   ]
  },
  {
   "cell_type": "code",
   "execution_count": 39,
   "metadata": {},
   "outputs": [
    {
     "data": {
      "text/html": [
       "<div>\n",
       "<style scoped>\n",
       "    .dataframe tbody tr th:only-of-type {\n",
       "        vertical-align: middle;\n",
       "    }\n",
       "\n",
       "    .dataframe tbody tr th {\n",
       "        vertical-align: top;\n",
       "    }\n",
       "\n",
       "    .dataframe thead th {\n",
       "        text-align: right;\n",
       "    }\n",
       "</style>\n",
       "<table border=\"1\" class=\"dataframe\">\n",
       "  <thead>\n",
       "    <tr style=\"text-align: right;\">\n",
       "      <th></th>\n",
       "      <th>endTime</th>\n",
       "    </tr>\n",
       "  </thead>\n",
       "  <tbody>\n",
       "    <tr>\n",
       "      <th>0</th>\n",
       "      <td>2022-12-02 00:03:00</td>\n",
       "    </tr>\n",
       "    <tr>\n",
       "      <th>1</th>\n",
       "      <td>2022-12-02 00:06:00</td>\n",
       "    </tr>\n",
       "    <tr>\n",
       "      <th>2</th>\n",
       "      <td>2022-12-02 00:09:00</td>\n",
       "    </tr>\n",
       "    <tr>\n",
       "      <th>3</th>\n",
       "      <td>2022-12-02 00:12:00</td>\n",
       "    </tr>\n",
       "    <tr>\n",
       "      <th>4</th>\n",
       "      <td>2022-12-02 00:13:00</td>\n",
       "    </tr>\n",
       "    <tr>\n",
       "      <th>...</th>\n",
       "      <td>...</td>\n",
       "    </tr>\n",
       "    <tr>\n",
       "      <th>9995</th>\n",
       "      <td>2023-02-23 02:17:00</td>\n",
       "    </tr>\n",
       "    <tr>\n",
       "      <th>9996</th>\n",
       "      <td>2023-02-23 02:20:00</td>\n",
       "    </tr>\n",
       "    <tr>\n",
       "      <th>9997</th>\n",
       "      <td>2023-02-23 02:23:00</td>\n",
       "    </tr>\n",
       "    <tr>\n",
       "      <th>9998</th>\n",
       "      <td>2023-02-23 02:26:00</td>\n",
       "    </tr>\n",
       "    <tr>\n",
       "      <th>9999</th>\n",
       "      <td>2023-02-23 03:35:00</td>\n",
       "    </tr>\n",
       "  </tbody>\n",
       "</table>\n",
       "<p>10000 rows × 1 columns</p>\n",
       "</div>"
      ],
      "text/plain": [
       "                  endTime\n",
       "0     2022-12-02 00:03:00\n",
       "1     2022-12-02 00:06:00\n",
       "2     2022-12-02 00:09:00\n",
       "3     2022-12-02 00:12:00\n",
       "4     2022-12-02 00:13:00\n",
       "...                   ...\n",
       "9995  2023-02-23 02:17:00\n",
       "9996  2023-02-23 02:20:00\n",
       "9997  2023-02-23 02:23:00\n",
       "9998  2023-02-23 02:26:00\n",
       "9999  2023-02-23 03:35:00\n",
       "\n",
       "[10000 rows x 1 columns]"
      ]
     },
     "execution_count": 39,
     "metadata": {},
     "output_type": "execute_result"
    }
   ],
   "source": [
    "# Let's take a peak first\n",
    "b_times_df = pd.read_csv('Bdata/timestamps.csv')\n",
    "b_times_df"
   ]
  },
  {
   "cell_type": "markdown",
   "metadata": {},
   "source": [
    "It looks like there's quite a bit of data. I might be ready to rule out things like Netflix or Spotify data already but let's keep looking"
   ]
  },
  {
   "cell_type": "code",
   "execution_count": 40,
   "metadata": {},
   "outputs": [
    {
     "data": {
      "text/html": [
       "<div>\n",
       "<style scoped>\n",
       "    .dataframe tbody tr th:only-of-type {\n",
       "        vertical-align: middle;\n",
       "    }\n",
       "\n",
       "    .dataframe tbody tr th {\n",
       "        vertical-align: top;\n",
       "    }\n",
       "\n",
       "    .dataframe thead th {\n",
       "        text-align: right;\n",
       "    }\n",
       "</style>\n",
       "<table border=\"1\" class=\"dataframe\">\n",
       "  <thead>\n",
       "    <tr style=\"text-align: right;\">\n",
       "      <th></th>\n",
       "      <th>time_diff</th>\n",
       "    </tr>\n",
       "  </thead>\n",
       "  <tbody>\n",
       "    <tr>\n",
       "      <th>count</th>\n",
       "      <td>9999</td>\n",
       "    </tr>\n",
       "    <tr>\n",
       "      <th>mean</th>\n",
       "      <td>0 days 00:11:58.463846384</td>\n",
       "    </tr>\n",
       "    <tr>\n",
       "      <th>std</th>\n",
       "      <td>0 days 01:22:26.201854253</td>\n",
       "    </tr>\n",
       "    <tr>\n",
       "      <th>min</th>\n",
       "      <td>0 days 00:00:00</td>\n",
       "    </tr>\n",
       "    <tr>\n",
       "      <th>25%</th>\n",
       "      <td>0 days 00:00:00</td>\n",
       "    </tr>\n",
       "    <tr>\n",
       "      <th>50%</th>\n",
       "      <td>0 days 00:02:00</td>\n",
       "    </tr>\n",
       "    <tr>\n",
       "      <th>75%</th>\n",
       "      <td>0 days 00:03:00</td>\n",
       "    </tr>\n",
       "    <tr>\n",
       "      <th>max</th>\n",
       "      <td>1 days 22:45:00</td>\n",
       "    </tr>\n",
       "  </tbody>\n",
       "</table>\n",
       "</div>"
      ],
      "text/plain": [
       "                       time_diff\n",
       "count                       9999\n",
       "mean   0 days 00:11:58.463846384\n",
       "std    0 days 01:22:26.201854253\n",
       "min              0 days 00:00:00\n",
       "25%              0 days 00:00:00\n",
       "50%              0 days 00:02:00\n",
       "75%              0 days 00:03:00\n",
       "max              1 days 22:45:00"
      ]
     },
     "execution_count": 40,
     "metadata": {},
     "output_type": "execute_result"
    }
   ],
   "source": [
    "# Convert the times column to datetime format and put them in order\n",
    "b_times_df['endTime'] = pd.to_datetime(b_times_df['endTime'])\n",
    "b_times_df = b_times_df.sort_values(by='endTime')\n",
    "\n",
    "# Calculate the time difference between consecutive timestamps\n",
    "b_times_df['time_diff'] = b_times_df['endTime'].diff()\n",
    "\n",
    "# Let's check out our time_diff column\n",
    "b_times_df.describe()\n"
   ]
  },
  {
   "cell_type": "code",
   "execution_count": 41,
   "metadata": {},
   "outputs": [
    {
     "name": "stdout",
     "output_type": "stream",
     "text": [
      "The longest difference between timestamps is 1 days 22:45:00\n",
      "The average difference between timestamps is 0 days 00:11:58.463846384\n"
     ]
    }
   ],
   "source": [
    "\n",
    "# We see them in the summary statistics but lets print out the longest and average times between timestamps\n",
    "longest_time_diff = b_times_df['time_diff'].max()\n",
    "average_time_diff = b_times_df['time_diff'].mean()\n",
    "\n",
    "print(f\"The longest difference between timestamps is {longest_time_diff}\")\n",
    "print(f\"The average difference between timestamps is {average_time_diff}\")"
   ]
  },
  {
   "cell_type": "code",
   "execution_count": 42,
   "metadata": {},
   "outputs": [
    {
     "name": "stdout",
     "output_type": "stream",
     "text": [
      "The date with the most timestamps was 2023-02-04. On this day there were 304 stamps.\n",
      "The month with the most timestamps was 12. During this month there were 3775 stamps.\n"
     ]
    }
   ],
   "source": [
    "\n",
    "# Creating new columns for the full date and another for month (without time)\n",
    "b_times_df['full_date'] = b_times_df['endTime'].dt.date\n",
    "b_times_df['month'] = b_times_df['endTime'].dt.month\n",
    "\n",
    "# Finding the date with the most timestamps\n",
    "date_with_most_timestamps = b_times_df['full_date'].value_counts().idxmax()\n",
    "number_of_events_on_date = b_times_df['full_date'].value_counts().max()\n",
    "\n",
    "# Finding the date with the most timestamps\n",
    "month_with_most_timestamps = b_times_df['month'].value_counts().idxmax()\n",
    "number_of_events_in_month = b_times_df['month'].value_counts().max()\n",
    "\n",
    "print(f\"The date with the most timestamps was {date_with_most_timestamps}. On this day there were {number_of_events_on_date} stamps.\")\n",
    "print(f\"The month with the most timestamps was {month_with_most_timestamps}. During this month there were {number_of_events_in_month} stamps.\")\n",
    "\n"
   ]
  },
  {
   "cell_type": "code",
   "execution_count": 43,
   "metadata": {},
   "outputs": [
    {
     "data": {
      "image/png": "[encoded data removed]",
      "text/plain": [
       "<Figure size 864x432 with 1 Axes>"
      ]
     },
     "metadata": {},
     "output_type": "display_data"
    }
   ],
   "source": [
    "# Let's extrract the hour of the day and day of the week using datetime properties\n",
    "b_times_df['hour'] = b_times_df['endTime'].dt.hour\n",
    "b_times_df['weekday'] = b_times_df['endTime'].dt.weekday\n",
    "\n",
    "\n",
    "# Plotting the distribution of timestamps throughout the day\n",
    "sns.set_style(\"whitegrid\")\n",
    "\n",
    "plt.figure(figsize=(12, 6))\n",
    "sns.countplot(x='hour', data=b_times_df)\n",
    "plt.title('Distribution of Timestamps Throughout the Day')\n",
    "plt.xlabel('Hour of the Day')\n",
    "plt.ylabel('Number of Timestamps')\n",
    "plt.xticks(range(0, 24))\n",
    "plt.show()\n"
   ]
  },
  {
   "cell_type": "markdown",
   "metadata": {},
   "source": [
    "Okay so lots of evening activity and a drop during the afternoon. The high activity times line up with times that someone would be asleep or in bed."
   ]
  },
  {
   "cell_type": "code",
   "execution_count": 44,
   "metadata": {},
   "outputs": [
    {
     "data": {
      "image/png": "[encoded data removed]",
      "text/plain": [
       "<Figure size 864x432 with 1 Axes>"
      ]
     },
     "metadata": {},
     "output_type": "display_data"
    }
   ],
   "source": [
    "\n",
    "# Next we'll checkout the distribution of dimestamps across weekdays and weekends\n",
    "plt.figure(figsize=(12, 6))\n",
    "sns.countplot(x='weekday', data=b_times_df)\n",
    "plt.title('Distribution of Timestamps Across Weekdays and Weekends')\n",
    "plt.xlabel('Day of the Week')\n",
    "plt.ylabel('Number of Timestamps')\n",
    "plt.xticks(range(7), ['Monday', 'Tuesday', 'Wednesday', 'Thursday', 'Friday', 'Saturday', 'Sunday'])\n",
    "plt.show()\n"
   ]
  },
  {
   "cell_type": "markdown",
   "metadata": {},
   "source": [
    "Higher activity towards the weekend. This also seems to suggest that downtime or resting time is when this data is collected."
   ]
  },
  {
   "cell_type": "markdown",
   "metadata": {},
   "source": [
    "#### Best Guess\n",
    "It appears that the data that these timestamps correspond to are collected primarily during the late evenings and early mornins and collected for longer intervals over the weekend. Because of this and the average diff being around 12 minutes and the median diff being around 2 minutes, I might guess that not only is this data downloaded from some type of sleep sensor, but that it is from a sensor collecting more information such as respitory rate or heart rate during sleep. I say this because I know that my phone's sleep data only collects large intervals during sleep and it is uncommon to see hundreds of intervals of activity being collected. This could be a difference in phones, but I still get the feeling that this frequency is more similar to a more volitile measurement such as location or breathing rate and the peak activity times are not reminiscent of location data. Based on all of this, my guess is that this data is probably from an Apple watch or something of the sort and it is monitering some health metric."
   ]
  },
  {
   "cell_type": "markdown",
   "metadata": {},
   "source": [
    "# Basil's Comments on Grant's Analysis"
   ]
  },
  {
   "cell_type": "markdown",
   "metadata": {},
   "source": [
    "The type of data was not guessed correctly, although Grant did some very good analysis to reach that conclusion. The source of data was my spotify listening history. I am not sure what was happeing on that day, but in December I have more free time to listen to music because of winterbreak which makes sense. I feel like if I got my location data I could definitley figure out what was happening on that day. \n"
   ]
  }
 ],
 "metadata": {
  "kernelspec": {
   "display_name": "Python 3.9.12 ('base')",
   "language": "python",
   "name": "python3"
  },
  "language_info": {
   "codemirror_mode": {
    "name": "ipython",
    "version": 3
   },
   "file_extension": ".py",
   "mimetype": "text/x-python",
   "name": "python",
   "nbconvert_exporter": "python",
   "pygments_lexer": "ipython3",
   "version": "3.9.12"
  },
  "orig_nbformat": 4,
  "vscode": {
   "interpreter": {
    "hash": "be44935fcddb7a5b39cc12a7076549386e43a478b7f2a324b7f9efaa2ae6c3ab"
   }
  }
 },
 "nbformat": 4,
 "nbformat_minor": 2
}
